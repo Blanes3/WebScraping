{
 "cells": [
  {
   "cell_type": "code",
   "execution_count": 2,
   "id": "be4a3ed7-0e52-47a8-b7ae-b72a661707aa",
   "metadata": {},
   "outputs": [],
   "source": [
    "import requests\n",
    "import pandas as pd\n",
    "from bs4 import BeautifulSoup"
   ]
  },
  {
   "cell_type": "code",
   "execution_count": 3,
   "id": "d8577671-500f-4003-8e63-7c90a10abef1",
   "metadata": {},
   "outputs": [],
   "source": [
    "url = 'https://resultados.as.com/resultados/futbol/primera/clasificacion/'"
   ]
  },
  {
   "cell_type": "code",
   "execution_count": 4,
   "id": "dd538bf3-1ce5-4fef-b722-e204d2090c1b",
   "metadata": {},
   "outputs": [],
   "source": [
    "page = requests.get(url)"
   ]
  },
  {
   "cell_type": "code",
   "execution_count": 5,
   "id": "f6f42387-0924-48b8-8e3a-b02d85651f44",
   "metadata": {},
   "outputs": [],
   "source": [
    "soup = BeautifulSoup(page.content, 'html.parser')"
   ]
  },
  {
   "cell_type": "code",
   "execution_count": null,
   "id": "3dd7709a-d790-4a93-9647-a8b2cb29477b",
   "metadata": {},
   "outputs": [],
   "source": []
  },
  {
   "cell_type": "code",
   "execution_count": 6,
   "id": "19ec8764-b2fa-47d3-92d5-517d316a5973",
   "metadata": {},
   "outputs": [],
   "source": [
    "# Equipos"
   ]
  },
  {
   "cell_type": "code",
   "execution_count": 7,
   "id": "c28b38a1-6244-440a-b375-d52b41f84079",
   "metadata": {},
   "outputs": [
    {
     "name": "stdout",
     "output_type": "stream",
     "text": [
      "['Barcelona', 'Real Madrid', 'Atlético', 'R. Sociedad', 'Betis', 'Villarreal', 'Athletic', 'Rayo', 'Osasuna', 'Celta', 'Girona', 'Mallorca', 'Sevilla', 'Getafe', 'Cádiz', 'Real Valladolid', 'Espanyol', 'Almería', 'Valencia', 'Elche']\n"
     ]
    }
   ],
   "source": [
    "eq = soup.find_all('span', class_= 'nombre-equipo')\n",
    "\n",
    "equipos = list()\n",
    "\n",
    "count = 0\n",
    "for i in eq:\n",
    "    if count < 20:\n",
    "        equipos.append(i.text)\n",
    "    else:\n",
    "        break\n",
    "    count += 1\n",
    "print(equipos)"
   ]
  },
  {
   "cell_type": "code",
   "execution_count": null,
   "id": "efede096-1792-44ab-9c1e-8c49920241e0",
   "metadata": {},
   "outputs": [],
   "source": []
  },
  {
   "cell_type": "code",
   "execution_count": 8,
   "id": "f9c787bf-43a9-430d-bc4d-03a0faccc189",
   "metadata": {},
   "outputs": [],
   "source": [
    "# Puntuación"
   ]
  },
  {
   "cell_type": "code",
   "execution_count": 9,
   "id": "66db3950-7a77-481a-8fdf-8ce29375c114",
   "metadata": {},
   "outputs": [
    {
     "name": "stdout",
     "output_type": "stream",
     "text": [
      "['71', '59', '54', '48', '45', '44', '37', '36', '35', '35', '34', '33', '31', '30', '28', '28', '27', '27', '26', '13']\n"
     ]
    }
   ],
   "source": [
    "pt = soup.find_all('td', class_= 'destacado')\n",
    "\n",
    "puntuacion = list()\n",
    "\n",
    "count = 0\n",
    "for i in pt:\n",
    "    if count < 20:\n",
    "        puntuacion.append(i.text)\n",
    "    else:\n",
    "        break\n",
    "    count += 1\n",
    "print(puntuacion)"
   ]
  },
  {
   "cell_type": "code",
   "execution_count": null,
   "id": "11b81363-1d79-4918-96db-0d421d47e986",
   "metadata": {},
   "outputs": [],
   "source": []
  },
  {
   "cell_type": "code",
   "execution_count": null,
   "id": "d7e6d979-6e84-4358-a746-ac63ce279b3b",
   "metadata": {},
   "outputs": [],
   "source": [
    "# Construimos un Dataframe"
   ]
  },
  {
   "cell_type": "code",
   "execution_count": 17,
   "id": "985d1225-6891-4a92-895a-ca799bec1dda",
   "metadata": {},
   "outputs": [],
   "source": [
    "df = pd.DataFrame({'Nombre': equipos, 'Puntos': puntuacion}, index = list(range(1,21)))"
   ]
  },
  {
   "cell_type": "code",
   "execution_count": 18,
   "id": "fee6820f-4db8-4716-bf38-cdfc44553008",
   "metadata": {},
   "outputs": [
    {
     "data": {
      "text/html": [
       "<div>\n",
       "<style scoped>\n",
       "    .dataframe tbody tr th:only-of-type {\n",
       "        vertical-align: middle;\n",
       "    }\n",
       "\n",
       "    .dataframe tbody tr th {\n",
       "        vertical-align: top;\n",
       "    }\n",
       "\n",
       "    .dataframe thead th {\n",
       "        text-align: right;\n",
       "    }\n",
       "</style>\n",
       "<table border=\"1\" class=\"dataframe\">\n",
       "  <thead>\n",
       "    <tr style=\"text-align: right;\">\n",
       "      <th></th>\n",
       "      <th>Nombre</th>\n",
       "      <th>Puntos</th>\n",
       "    </tr>\n",
       "  </thead>\n",
       "  <tbody>\n",
       "    <tr>\n",
       "      <th>1</th>\n",
       "      <td>Barcelona</td>\n",
       "      <td>71</td>\n",
       "    </tr>\n",
       "    <tr>\n",
       "      <th>2</th>\n",
       "      <td>Real Madrid</td>\n",
       "      <td>59</td>\n",
       "    </tr>\n",
       "    <tr>\n",
       "      <th>3</th>\n",
       "      <td>Atlético</td>\n",
       "      <td>54</td>\n",
       "    </tr>\n",
       "    <tr>\n",
       "      <th>4</th>\n",
       "      <td>R. Sociedad</td>\n",
       "      <td>48</td>\n",
       "    </tr>\n",
       "    <tr>\n",
       "      <th>5</th>\n",
       "      <td>Betis</td>\n",
       "      <td>45</td>\n",
       "    </tr>\n",
       "    <tr>\n",
       "      <th>6</th>\n",
       "      <td>Villarreal</td>\n",
       "      <td>44</td>\n",
       "    </tr>\n",
       "    <tr>\n",
       "      <th>7</th>\n",
       "      <td>Athletic</td>\n",
       "      <td>37</td>\n",
       "    </tr>\n",
       "    <tr>\n",
       "      <th>8</th>\n",
       "      <td>Rayo</td>\n",
       "      <td>36</td>\n",
       "    </tr>\n",
       "    <tr>\n",
       "      <th>9</th>\n",
       "      <td>Osasuna</td>\n",
       "      <td>35</td>\n",
       "    </tr>\n",
       "    <tr>\n",
       "      <th>10</th>\n",
       "      <td>Celta</td>\n",
       "      <td>35</td>\n",
       "    </tr>\n",
       "    <tr>\n",
       "      <th>11</th>\n",
       "      <td>Girona</td>\n",
       "      <td>34</td>\n",
       "    </tr>\n",
       "    <tr>\n",
       "      <th>12</th>\n",
       "      <td>Mallorca</td>\n",
       "      <td>33</td>\n",
       "    </tr>\n",
       "    <tr>\n",
       "      <th>13</th>\n",
       "      <td>Sevilla</td>\n",
       "      <td>31</td>\n",
       "    </tr>\n",
       "    <tr>\n",
       "      <th>14</th>\n",
       "      <td>Getafe</td>\n",
       "      <td>30</td>\n",
       "    </tr>\n",
       "    <tr>\n",
       "      <th>15</th>\n",
       "      <td>Cádiz</td>\n",
       "      <td>28</td>\n",
       "    </tr>\n",
       "    <tr>\n",
       "      <th>16</th>\n",
       "      <td>Real Valladolid</td>\n",
       "      <td>28</td>\n",
       "    </tr>\n",
       "    <tr>\n",
       "      <th>17</th>\n",
       "      <td>Espanyol</td>\n",
       "      <td>27</td>\n",
       "    </tr>\n",
       "    <tr>\n",
       "      <th>18</th>\n",
       "      <td>Almería</td>\n",
       "      <td>27</td>\n",
       "    </tr>\n",
       "    <tr>\n",
       "      <th>19</th>\n",
       "      <td>Valencia</td>\n",
       "      <td>26</td>\n",
       "    </tr>\n",
       "    <tr>\n",
       "      <th>20</th>\n",
       "      <td>Elche</td>\n",
       "      <td>13</td>\n",
       "    </tr>\n",
       "  </tbody>\n",
       "</table>\n",
       "</div>"
      ],
      "text/plain": [
       "             Nombre Puntos\n",
       "1         Barcelona     71\n",
       "2       Real Madrid     59\n",
       "3          Atlético     54\n",
       "4       R. Sociedad     48\n",
       "5             Betis     45\n",
       "6        Villarreal     44\n",
       "7          Athletic     37\n",
       "8              Rayo     36\n",
       "9           Osasuna     35\n",
       "10            Celta     35\n",
       "11           Girona     34\n",
       "12         Mallorca     33\n",
       "13          Sevilla     31\n",
       "14           Getafe     30\n",
       "15            Cádiz     28\n",
       "16  Real Valladolid     28\n",
       "17         Espanyol     27\n",
       "18          Almería     27\n",
       "19         Valencia     26\n",
       "20            Elche     13"
      ]
     },
     "execution_count": 18,
     "metadata": {},
     "output_type": "execute_result"
    }
   ],
   "source": [
    "df"
   ]
  }
 ],
 "metadata": {
  "kernelspec": {
   "display_name": "Python 3 (ipykernel)",
   "language": "python",
   "name": "python3"
  },
  "language_info": {
   "codemirror_mode": {
    "name": "ipython",
    "version": 3
   },
   "file_extension": ".py",
   "mimetype": "text/x-python",
   "name": "python",
   "nbconvert_exporter": "python",
   "pygments_lexer": "ipython3",
   "version": "3.9.13"
  }
 },
 "nbformat": 4,
 "nbformat_minor": 5
}
